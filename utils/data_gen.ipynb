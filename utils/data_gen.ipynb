{
 "cells": [
  {
   "cell_type": "code",
   "execution_count": null,
   "metadata": {},
   "outputs": [],
   "source": [
    "import torch\n",
    "import numpy as np\n",
    "import pandas as pd\n",
    "import nibabel as nib\n",
    "from os import walk\n",
    "\n",
    "from sklearn.random_projection import SparseRandomProjection"
   ]
  },
  {
   "cell_type": "code",
   "execution_count": null,
   "metadata": {},
   "outputs": [],
   "source": [
    "def loadData(path: str, dtype=torch.float64, flatten=True) -> torch.Tensor:\n",
    "    trueShape = (128, 128, 49)\n",
    "    img = nib.load(path)\n",
    "    #data = img.get_fdata()\n",
    "    data = np.asarray(img.dataobj)\n",
    "\n",
    "    if img.shape[:-1] != trueShape:\n",
    "        print(f\"Error: Shape is {img.shape} not {trueShape}\")\n",
    "        return None\n",
    "\n",
    "    if flatten:\n",
    "        dataTensor = torch.tensor(np.mean(data, axis=3)).flatten().to(dtype)\n",
    "    else:\n",
    "        dataTensor = torch.tensor(np.mean(data, axis=3)).to(dtype)\n",
    "        \n",
    "    return dataTensor"
   ]
  },
  {
   "cell_type": "code",
   "execution_count": null,
   "metadata": {},
   "outputs": [],
   "source": [
    "parentPath = '../../ds000201-download/'\n",
    "scanType = 'func/'\n",
    "task = '_task-rest_bold.nii.gz'\n",
    "\n",
    "# Exclude subjects that do not have all scans for both sessions\n",
    "exclude = ['sub-9016', 'sub-9022', 'sub-9044', 'sub-9066', 'sub-9078', 'sub-9095']\n"
   ]
  },
  {
   "cell_type": "code",
   "execution_count": null,
   "metadata": {},
   "outputs": [],
   "source": [
    "paths = next(walk(parentPath))[1]\n",
    "fullData = torch.empty(160, 128*128*49)\n",
    "count = 0\n",
    "for sub in paths:\n",
    "    if sub[:3] != 'sub' or sub in exclude: continue\n",
    "    for i in range(1,3):\n",
    "        ses = f'ses-{i}'\n",
    "        path = parentPath + sub + '/' + ses + '/' + scanType + sub + '_' + ses + task\n",
    "        print(path)\n",
    "        fullData[count] = loadData(path) \n",
    "        count += 1\n",
    "torch.save(fullData, 'restData_meanTime_reg.pt')"
   ]
  },
  {
   "cell_type": "code",
   "execution_count": null,
   "metadata": {},
   "outputs": [],
   "source": [
    "dataShape = 128*128*49\n",
    "\n",
    "X = torch.load('restData_meanTime_reg.pt')\n",
    "\n",
    "\n",
    "transformer = SparseRandomProjection(random_state=69, eps=.1)\n",
    "X_new = transformer.fit_transform(X)\n",
    "xt = torch.tensor(X_new)\n",
    "\n",
    "torch.save(xt, 'restData_meanTime_spr.pt')\n",
    "print(X_new.shape)"
   ]
  }
 ],
 "metadata": {
  "language_info": {
   "name": "python"
  },
  "orig_nbformat": 4
 },
 "nbformat": 4,
 "nbformat_minor": 2
}
