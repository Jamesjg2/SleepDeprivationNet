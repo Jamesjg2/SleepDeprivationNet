{
 "cells": [
  {
   "cell_type": "code",
   "execution_count": 1,
   "metadata": {},
   "outputs": [
    {
     "name": "stdout",
     "output_type": "stream",
     "text": [
      "Skipping: sub-9016_ses-1_task-rest_bold.nii.gz\n",
      "Skipping: sub-9022_ses-1_task-rest_bold.nii.gz\n",
      "Skipping: sub-9044_ses-1_task-rest_bold.nii.gz\n",
      "Skipping: sub-9066_ses-1_task-rest_bold.nii.gz\n",
      "Skipping: sub-9095_ses-1_task-rest_bold.nii.gz\n"
     ]
    }
   ],
   "source": [
    "import math\n",
    "from pathlib import Path\n",
    "\n",
    "import torch\n",
    "import jax\n",
    "import numpy as np\n",
    "import nibabel as nib\n",
    "import pandas as pd\n",
    "import tensorly as tl\n",
    "from tensorly.decomposition import tucker\n",
    "from tqdm.notebook import tqdm\n",
    "\n",
    "class BrainDataset(torch.utils.data.Dataset):\n",
    "    \n",
    "    def __init__(self,\n",
    "                 data_path: str='../../ds000201-download/',\n",
    "                 task: str='_task-rest_bold.nii.gz',\n",
    "                 tsv_path: str='../../ds000201-download/participants.tsv',\n",
    "                 time_idx: int=190,\n",
    "                 exclude: list=None,):\n",
    "        \n",
    "        self.__dict__.update(locals())\n",
    "        if not exclude:\n",
    "            self.exclude = ['sub-9016', 'sub-9022', 'sub-9044', 'sub-9066', 'sub-9078', 'sub-9095']\n",
    "        \n",
    "        self._setup_()\n",
    "        self.participants = pd.read_csv(tsv_path, sep='\\t')   \n",
    "    \n",
    "    def _setup_(self):\n",
    "        # Setup Paths\n",
    "        paths = sorted(Path(self.data_path).rglob(f'*{self.task}'))\n",
    "        \n",
    "        self.paths = []\n",
    "        for idx, p in enumerate(paths):\n",
    "            if any([e in p.name for e in self.exclude]):\n",
    "                print(f'Skipping: {p.name}')\n",
    "                continue\n",
    "            self.paths.append(p)\n",
    "    \n",
    "        # Set Train Test Split\n",
    "        \n",
    "\n",
    "    def __load_fmri__(self, path) -> torch.Tensor:\n",
    "        \n",
    "        trueShape = (128, 128, 49)\n",
    "        img = nib.load(path)\n",
    "        \n",
    "        if img.shape[:-1] != trueShape:\n",
    "            print(f\"Error: Shape is {img.shape} not {trueShape}\")\n",
    "            return None\n",
    "        \n",
    "        data = img.get_fdata()[:, :, :, :self.time_idx]\n",
    "        data = torch.tensor(data, dtype=torch.float32)\n",
    "        \n",
    "        # Repeat the last entry of the time series until it matches the expect dimensions\n",
    "        # Happy batching, happy life\n",
    "        if data.shape[-1] < self.time_idx:\n",
    "            missing_dim = self.time_idx - data.shape[-1]\n",
    "            repeat = torch.tensor([data[:, :, :, -1].tolist() for _ in range(missing_dim)])\n",
    "            repeat = torch.movedim(repeat,0, -1)\n",
    "            data = torch.cat((data, repeat), axis=-1)\n",
    "        return data\n",
    "        \n",
    "        \n",
    "    def __len__(self):\n",
    "        return(len(self.paths))\n",
    "    \n",
    "    \n",
    "    def __getitem__(self, idx) -> (torch.Tensor, torch.Tensor):\n",
    "        p = self.paths[idx]\n",
    "        pid = p.name.split('_')[0]\n",
    "        sleep_deprived_label = torch.tensor((self.participants[self.participants['participant_id'] == pid]['Sl_cond']  - 1).item(), dtype=torch.long)\n",
    "\n",
    "        data = self.__load_fmri__(str(p))\n",
    "        return (data, sleep_deprived_label)\n",
    "\n",
    "    \n",
    "\n",
    "\n",
    "dataset = BrainDataset()\n",
    "\n",
    "rng = np.random.default_rng(seed=42)\n",
    "indices = list(range(len(dataset)))\n",
    "rng.shuffle(indices)\n",
    "split = math.floor(len(dataset) *.8)\n",
    "train_slice = indices[:split]\n",
    "test_slice = indices[split:]\n",
    "\n",
    "training_set = torch.utils.data.Subset(dataset, train_slice)\n",
    "eval_set = torch.utils.data.Subset(dataset, test_slice)\n",
    "\n",
    "# training_dl = torch.utils.data.DataLoader(training_set, batch_size=32, shuffle=True) \n",
    "training_dl = torch.utils.data.DataLoader(training_set, batch_size=8, shuffle=False) \n",
    "eval_dl = torch.utils.data.DataLoader(eval_set, batch_size=32, shuffle=True) "
   ]
  },
  {
   "cell_type": "code",
   "execution_count": 2,
   "metadata": {},
   "outputs": [
    {
     "data": {
      "text/plain": [
       "torch.Size([128, 128, 49, 190])"
      ]
     },
     "execution_count": 2,
     "metadata": {},
     "output_type": "execute_result"
    }
   ],
   "source": [
    "dataset.__load_fmri__('../../ds000201-download/sub-9047/ses-1/func/sub-9047_ses-1_task-rest_bold.nii.gz').shape"
   ]
  },
  {
   "cell_type": "code",
   "execution_count": 3,
   "metadata": {},
   "outputs": [
    {
     "data": {
      "application/vnd.jupyter.widget-view+json": {
       "model_id": "ccbfae602a5e48d49a6d11dcf6758cd4",
       "version_major": 2,
       "version_minor": 0
      },
      "text/plain": [
       "  0%|          | 0/160 [00:00<?, ?it/s]"
      ]
     },
     "metadata": {},
     "output_type": "display_data"
    },
    {
     "name": "stderr",
     "output_type": "stream",
     "text": [
      "/home/ham/.pyenv/versions/miniconda3-3.9.1/envs/mlsp/lib/python3.7/site-packages/tensorly/backend/pytorch_backend.py:31: UserWarning: To copy construct from a tensor, it is recommended to use sourceTensor.clone().detach() or sourceTensor.clone().detach().requires_grad_(True), rather than torch.tensor(sourceTensor).\n",
      "  requires_grad=requires_grad)\n",
      "/home/ham/.pyenv/versions/miniconda3-3.9.1/envs/mlsp/lib/python3.7/site-packages/tensorly/tucker_tensor.py:357: RuntimeWarning: Given only one int for 'rank' for decomposition a tensor of order 4. Using this rank for all modes.\n",
      "  warnings.warn(message, RuntimeWarning)\n",
      "/home/ham/.pyenv/versions/miniconda3-3.9.1/envs/mlsp/lib/python3.7/site-packages/tensorly/backend/core.py:885: UserWarning: In partial_svd: converting to NumPy. Check SVD_FUNS for available alternatives if you want to avoid this.\n",
      "  warnings.warn('In partial_svd: converting to NumPy.'\n",
      "/home/ham/.pyenv/versions/miniconda3-3.9.1/envs/mlsp/lib/python3.7/site-packages/tensorly/backend/core.py:910: RuntimeWarning: invalid value encountered in sqrt\n",
      "  S = np.where(np.abs(S) <= np.finfo(S.dtype).eps, 0, np.sqrt(S))\n"
     ]
    }
   ],
   "source": [
    "\n",
    "full_dl = torch.utils.data.DataLoader(dataset, batch_size=1, shuffle=False) \n",
    "tl.set_backend('pytorch') # Or 'mxnet', 'numpy', 'tensorflow', 'cupy' or 'jax'\n",
    "full_labels = None\n",
    "full_data = None\n",
    "full_factos = None\n",
    "\n",
    "\n",
    "rank = 10\n",
    "# rank = [5, 5, 5, 190]\n",
    "\n",
    "\n",
    "def get_tucker(x, rank=5):\n",
    "    core, factors = tucker(tl.tensor(x), rank=rank)\n",
    "    return core.flatten(), core.flatten()\n",
    "\n",
    "full_factors = []\n",
    "for data in tqdm(full_dl):\n",
    "    x, labels = data\n",
    "    bs = x.shape[0]\n",
    "    ts = x.shape[-1]\n",
    "    \n",
    "    # assert len(rank) == x.ndim\n",
    "    # decom_x = torch.stack([get_tucker(tensor).core.flatten() for d in range(2)])\n",
    "    # decom_x.shape\n",
    "    \n",
    "    reduce_data, factors = get_tucker(x.squeeze(), rank)\n",
    "    if full_labels is not None:\n",
    "        full_labels = torch.vstack([full_labels, labels])\n",
    "        full_data = torch.vstack([full_data, reduce_data])\n",
    "        full_factors = torch.vstack([full_factors, factors])\n",
    "    else:\n",
    "        full_labels = labels\n",
    "        full_data = reduce_data\n",
    "        full_factors = factors\n",
    "        \n",
    "data_dict = {'data': full_data.view(160, -1),\n",
    " 'factors': full_factors.view(160, -1),\n",
    " 'labels': full_labels}\n",
    "\n",
    "torch.save(data_dict, 'task_rest.pt')"
   ]
  },
  {
   "cell_type": "code",
   "execution_count": 4,
   "metadata": {},
   "outputs": [],
   "source": [
    "import math\n",
    "\n",
    "%matplotlib inline\n",
    "import IPython.display as ipd\n",
    "import numpy as np\n",
    "import jax.numpy as jnp\n",
    "\n",
    "def jnp_svd(X):\n",
    "    # Fast implementation of SVD see https://towardsdatascience.com/turbocharging-svd-with-jax-749ae12f93af\n",
    "    # Compute full SVD\n",
    "    U, Sigma, Vh = jnp.linalg.svd(X, \n",
    "                                  full_matrices=False, # It's not necessary to compute the full matrix of U or V\n",
    "                                  compute_uv=True)\n",
    "    return U, Sigma, Vh\n",
    "\n",
    "\n",
    "\n",
    "def pca(x: np.ndarray, comp: int, verbose: bool=False) -> (np.ndarray, np.ndarray):\n",
    "    n, n_samples = x.shape\n",
    "    mu = jnp.tile(x.mean(axis=-1), (n_samples, 1)).T\n",
    "    x_mean = (x - mu)\n",
    "    C = jnp.cov(x_mean)\n",
    "   \n",
    "    \n",
    "    U, S, V = jnp_svd(C)\n",
    "#     U, S, V = np.linalg.svd(C) # NOTE: SLOW\n",
    "    \n",
    "    U = U[:, :comp]\n",
    "    z = U.T @ x_mean\n",
    "    x_ = ((U @ z) + mu)\n",
    "    check_pca = (((z  @ z.T))  / n_samples)\n",
    "    if verbose:\n",
    "        print(f\"X shape: {x.shape}\")\n",
    "        print(f\"Mu shape {mu.shape}\")\n",
    "        print(f\"C shape: {C.shape}\")\n",
    "        print(f\"X_mean shape: {x_mean.shape}\")\n",
    "        print(f\"U shape: {U.shape}\")\n",
    "        print(f\"Z shape: {z.shape}\")\n",
    "        print(f\"X_hat shape: {x_.shape}\")\n",
    "    \n",
    "    # Issues with my PCA :/\n",
    "    # assert np.allclose(check_pca, np.eye(comp), 1e-3), f\"Issue with pca (z @ z.T != I)\\n{'='*50}\\n{check_pca} \" \n",
    "    return z, x_, U\n"
   ]
  },
  {
   "cell_type": "code",
   "execution_count": 8,
   "metadata": {},
   "outputs": [
    {
     "data": {
      "text/plain": [
       "<matplotlib.image.AxesImage at 0x7f441d315c88>"
      ]
     },
     "execution_count": 8,
     "metadata": {},
     "output_type": "execute_result"
    },
    {
     "data": {
      "image/png": "[encoded data removed]",
      "text/plain": [
       "<Figure size 3600x720 with 1 Axes>"
      ]
     },
     "metadata": {
      "needs_background": "light"
     },
     "output_type": "display_data"
    }
   ],
   "source": [
    "# %matplotlib inline\n",
    "import matplotlib.pyplot as plt\n",
    "data = torch.load('task_rest.pt')\n",
    "x, y = data['data'], data['labels']\n",
    "\n",
    "# z, _, _ = pca(x.cpu().numpy(), 2)\n",
    "fig = plt.figure(figsize=(50, 10))\n",
    "fig.suptitle('Decomposed FMRI Data', fontsize=20)\n",
    "plt.imshow(x)"
   ]
  },
  {
   "cell_type": "code",
   "execution_count": 9,
   "metadata": {},
   "outputs": [
    {
     "name": "stdout",
     "output_type": "stream",
     "text": [
      "                                           Model Accuracy\n",
      "====================================================================================================\n",
      "K Means                  Sleep Deprived: 54.1667% \tWell Rested: 53.4091% \t\n",
      "HMM Model                Sleep Deprived: 55.1402% \tWell Rested: 50.9434% \t\n",
      "Gaussian Mixture Model   Sleep Deprived: 50.9434% \tWell Rested: 55.1402% \t\n"
     ]
    }
   ],
   "source": [
    "from sklearn.cluster import KMeans\n",
    "from sklearn.mixture import GaussianMixture\n",
    "from hmmlearn.hmm import GaussianHMM\n",
    "from sklearn.metrics import confusion_matrix\n",
    "\n",
    "classes = [\"Sleep Deprived\", \"Well Rested\"]\n",
    "\n",
    "def multilabel_compare(pred, gt, Model):\n",
    "    conf_mat = confusion_matrix(gt, pred).astype(float)\n",
    "    conf_mat /= conf_mat.sum(1, keepdims=True) * 0.01\n",
    "    print(f'{Model:<25}' + str().join([f'{clsss}: {score:.4f}% \\t' for clsss, score in zip(classes, conf_mat.max(1))]))\n",
    "    \n",
    "    \n",
    "N_CLASSES = 2\n",
    "kmeans = KMeans(N_CLASSES).fit(x)\n",
    "gmm = GaussianMixture(N_CLASSES, covariance_type='diag').fit(x)\n",
    "hmm = GaussianHMM(N_CLASSES, covariance_type='diag').fit(x)\n",
    "\n",
    "kmeans = kmeans.labels_\n",
    "gmm = gmm.predict(x)\n",
    "hmm = hmm.predict(x)\n",
    "\n",
    "\n",
    "header = \"Model Accuracy\"\n",
    "center_offset = 50+len(header)//2                                                                                                        \n",
    "print(f'{header:>{center_offset}}\\n{\"=\"*100}')\n",
    "multilabel_compare(y, kmeans, 'K Means')\n",
    "multilabel_compare(y, hmm, 'HMM Model')\n",
    "multilabel_compare(y, gmm, 'Gaussian Mixture Model')\n"
   ]
  }
 ],
 "metadata": {
  "interpreter": {
   "hash": "259bfae0818e842f806df57aeba9e9fea25079ec5799bff4e7264e20bda53058"
  },
  "kernelspec": {
   "display_name": "Python 3 (ipykernel)",
   "language": "python",
   "name": "python3"
  },
  "language_info": {
   "codemirror_mode": {
    "name": "ipython",
    "version": 3
   },
   "file_extension": ".py",
   "mimetype": "text/x-python",
   "name": "python",
   "nbconvert_exporter": "python",
   "pygments_lexer": "ipython3",
   "version": "3.7.0"
  }
 },
 "nbformat": 4,
 "nbformat_minor": 4
}
